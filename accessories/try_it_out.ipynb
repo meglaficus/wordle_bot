{
  "cells": [
    {
      "cell_type": "markdown",
      "metadata": {
        "id": "view-in-github",
        "colab_type": "text"
      },
      "source": [
        "<a href=\"https://colab.research.google.com/github/meglaficus/wordle_bot/blob/main/accessories/try_it_out.ipynb\" target=\"_parent\"><img src=\"https://colab.research.google.com/assets/colab-badge.svg\" alt=\"Open In Colab\"/></a>"
      ]
    },
    {
      "cell_type": "code",
      "execution_count": null,
      "metadata": {
        "id": "Qy3_S7liw-Xs"
      },
      "outputs": [],
      "source": [
        "!git clone https://github.com/meglaficus/wordle_bot.git\n",
        "!pip install rich"
      ]
    },
    {
      "cell_type": "code",
      "execution_count": null,
      "metadata": {
        "id": "BD3BzYavfX8O"
      },
      "outputs": [],
      "source": [
        "!cd wordle_bot && python main.py"
      ]
    }
  ],
  "metadata": {
    "accelerator": "GPU",
    "colab": {
      "name": "Wordle bot.ipynb",
      "provenance": [],
      "authorship_tag": "ABX9TyPSD5o6nL9cDnbxwa+kdQRr",
      "include_colab_link": true
    },
    "gpuClass": "standard",
    "kernelspec": {
      "display_name": "Python 3.10.4 ('wordle')",
      "language": "python",
      "name": "python3"
    },
    "language_info": {
      "name": "python",
      "version": "3.10.4"
    },
    "vscode": {
      "interpreter": {
        "hash": "34110caf40bf75e5d90f11e5809c7b6f34dd91dc2619c5800240501c65bd7bab"
      }
    }
  },
  "nbformat": 4,
  "nbformat_minor": 0
}