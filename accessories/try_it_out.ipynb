{
  "cells": [
    {
      "cell_type": "markdown",
      "metadata": {
        "colab_type": "text",
        "id": "view-in-github"
      },
      "source": [
        "<a href=\"https://colab.research.google.com/github/meglaficus/wordle_bot/blob/main/try_it_out.ipynb\" target=\"_parent\"><img src=\"https://colab.research.google.com/assets/colab-badge.svg\" alt=\"Open In Colab\"/></a>"
      ]
    },
    {
      "cell_type": "code",
      "execution_count": null,
      "metadata": {
        "id": "Qy3_S7liw-Xs"
      },
      "outputs": [],
      "source": [
        "!git clone https://github.com/meglaficus/wordle_bot.git\n",
        "!pip install rich"
      ]
    },
    {
      "cell_type": "code",
      "execution_count": 10,
      "metadata": {
        "colab": {
          "base_uri": "https://localhost:8080/"
        },
        "id": "BD3BzYavfX8O",
        "outputId": "51074671-2d13-480a-80e1-b49070a6d764"
      },
      "outputs": [
        {
          "name": "stdout",
          "output_type": "stream",
          "text": [
            "\u001b[1;35m     \u001b[0m\u001b[1;35m                                                                      \u001b[0m\u001b[1;35m     \u001b[0m\n",
            "\u001b[1;35m     \u001b[0m\u001b[1;35m         _       ______  ____  ____  __    ______   ____  ____  ______\u001b[0m\u001b[1;35m     \u001b[0m\n",
            "\u001b[1;35m     \u001b[0m\u001b[1;35m        | |     \u001b[0m\u001b[1;35m/\u001b[0m\u001b[1;35m \u001b[0m\u001b[1;35m/\u001b[0m\u001b[1;35m __ \\\u001b[0m\u001b[1;35m/\u001b[0m\u001b[1;35m __ \\\u001b[0m\u001b[1;35m/\u001b[0m\u001b[1;35m __ \\\u001b[0m\u001b[1;35m/\u001b[0m\u001b[1;35m \u001b[0m\u001b[1;35m/\u001b[0m\u001b[1;35m   \u001b[0m\u001b[1;35m/\u001b[0m\u001b[1;35m ____/  \u001b[0m\u001b[1;35m/\u001b[0m\u001b[1;35m __ \u001b[0m\u001b[1;35m)\u001b[0m\u001b[1;35m/\u001b[0m\u001b[1;35m __ \\\u001b[0m\u001b[1;35m/\u001b[0m\u001b[1;95m_\u001b[0m\u001b[1;35m  __/\u001b[0m\u001b[1;35m     \u001b[0m\n",
            "\u001b[1;35m     \u001b[0m\u001b[1;35m        | | \u001b[0m\u001b[1;35m/\u001b[0m\u001b[1;35m| \u001b[0m\u001b[1;35m/\u001b[0m\u001b[1;35m \u001b[0m\u001b[1;35m/\u001b[0m\u001b[1;35m \u001b[0m\u001b[1;35m/\u001b[0m\u001b[1;35m \u001b[0m\u001b[1;35m/\u001b[0m\u001b[1;35m \u001b[0m\u001b[1;35m/\u001b[0m\u001b[1;35m \u001b[0m\u001b[1;35m/_/\u001b[0m\u001b[1;35m \u001b[0m\u001b[1;35m/\u001b[0m\u001b[1;35m \u001b[0m\u001b[1;35m/\u001b[0m\u001b[1;35m \u001b[0m\u001b[1;35m/\u001b[0m\u001b[1;35m \u001b[0m\u001b[1;35m/\u001b[0m\u001b[1;35m \u001b[0m\u001b[1;35m/\u001b[0m\u001b[1;35m   \u001b[0m\u001b[1;35m/\u001b[0m\u001b[1;35m __/    \u001b[0m\u001b[1;35m/\u001b[0m\u001b[1;35m __  \u001b[0m\u001b[1;35m/\u001b[0m\u001b[1;35m \u001b[0m\u001b[1;35m/\u001b[0m\u001b[1;35m \u001b[0m\u001b[1;35m/\u001b[0m\u001b[1;35m \u001b[0m\u001b[1;35m/\u001b[0m\u001b[1;35m \u001b[0m\u001b[1;35m/\u001b[0m\u001b[1;35m \u001b[0m\u001b[1;35m/\u001b[0m\u001b[1;35m   \u001b[0m\u001b[1;35m     \u001b[0m\n",
            "\u001b[1;35m     \u001b[0m\u001b[1;35m        | |\u001b[0m\u001b[1;35m/\u001b[0m\u001b[1;35m |\u001b[0m\u001b[1;35m/\u001b[0m\u001b[1;35m \u001b[0m\u001b[1;35m/\u001b[0m\u001b[1;35m \u001b[0m\u001b[1;35m/_/\u001b[0m\u001b[1;35m \u001b[0m\u001b[1;35m/\u001b[0m\u001b[1;35m _, _/ \u001b[0m\u001b[1;35m/_/\u001b[0m\u001b[1;35m \u001b[0m\u001b[1;35m/\u001b[0m\u001b[1;35m \u001b[0m\u001b[1;35m/___/\u001b[0m\u001b[1;35m \u001b[0m\u001b[1;35m/\u001b[0m\u001b[1;95m___\u001b[0m\u001b[1;35m   \u001b[0m\u001b[1;35m/\u001b[0m\u001b[1;35m \u001b[0m\u001b[1;35m/_/\u001b[0m\u001b[1;35m \u001b[0m\u001b[1;35m/\u001b[0m\u001b[1;35m \u001b[0m\u001b[1;35m/_/\u001b[0m\u001b[1;35m \u001b[0m\u001b[1;35m/\u001b[0m\u001b[1;35m \u001b[0m\u001b[1;35m/\u001b[0m\u001b[1;35m \u001b[0m\u001b[1;35m/\u001b[0m\u001b[1;35m    \u001b[0m\u001b[1;35m     \u001b[0m\n",
            "\u001b[1;35m     \u001b[0m\u001b[1;35m        |__/|__/\\____/_/ |_/_____/_____/_____/  \u001b[0m\u001b[1;35m/_____/\u001b[0m\u001b[1;35m\\____/ \u001b[0m\u001b[1;35m/_/\u001b[0m\u001b[1;35m     \u001b[0m\u001b[1;35m     \u001b[0m\n",
            "\u001b[1;35m     \u001b[0m\u001b[1;35m                                                                      \u001b[0m\u001b[1;35m     \u001b[0m\n",
            "                                                                                \n",
            "                    +-----------------------------------------+                 \n",
            "                    | Please enter hints like this:           |                 \n",
            "                    | \u001b[1;36m0\u001b[0m: \u001b[1;37mwhite\u001b[0m                                |                 \n",
            "                    | \u001b[1;36m1\u001b[0m: \u001b[1;32mgreen\u001b[0m                                |                 \n",
            "                    | \u001b[1;36m2\u001b[0m: \u001b[1;33myellow\u001b[0m                               |                 \n",
            "                    |                                         |                 \n",
            "                    | When you solve the puzzle, hit \u001b[1;37mENTER\u001b[0m    |                 \n",
            "                    +-----------------------------------------+                 \n",
            "\n",
            "\n",
            "12972 words left\n",
            "Try \u001b[1;35mRATES\u001b[0m\n",
            "Enter hints or hit \u001b[1;37mENTER\u001b[0m if solved:22100\n",
            "\u001b[A                                              \u001b[A\n",
            "\u001b[A                                              \u001b[A\n",
            "\u001b[A                                              \u001b[A\n",
            "\n",
            "                              -----------------------                           \n",
            "                                     \u001b[1;33mR\u001b[0m \u001b[1;33mA\u001b[0m \u001b[1;32mT\u001b[0m \u001b[1;37mE\u001b[0m \u001b[1;37mS\u001b[0m                                  \n",
            "                              -----------------------                           \n",
            "\n",
            "\n",
            "\n",
            "\u001b[2K\u001b[32m⠋\u001b[0m \u001b[1;34mThinking...\u001b[0m\n",
            "\u001b[1A\u001b[2K11 words left\n",
            "Try \u001b[1;35mULTRA\u001b[0m\n",
            "Enter hints or hit \u001b[1;37mENTER\u001b[0m if solved:01122\n",
            "\u001b[A                                              \u001b[A\n",
            "\u001b[A                                              \u001b[A\n",
            "\u001b[A                                              \u001b[A\n",
            "\n",
            "                              -----------------------                           \n",
            "                                     \u001b[1;33mR\u001b[0m \u001b[1;33mA\u001b[0m \u001b[1;32mT\u001b[0m \u001b[1;37mE\u001b[0m \u001b[1;37mS\u001b[0m                                  \n",
            "                                     \u001b[1;37mU\u001b[0m \u001b[1;32mL\u001b[0m \u001b[1;32mT\u001b[0m \u001b[1;33mR\u001b[0m \u001b[1;33mA\u001b[0m                                  \n",
            "                              -----------------------                           \n",
            "\n",
            "\n",
            "\n",
            "\u001b[?25l\u001b[32m⠋\u001b[0m \u001b[1;34mThinking...\u001b[0m\n",
            "\u001b[1A\u001b[2K1 words left\n",
            "Try \u001b[1;35mALTAR\u001b[0m\n",
            "Enter hints or hit \u001b[1;37mENTER\u001b[0m if solved:\n",
            "\u001b[A                                              \u001b[A\n",
            "\u001b[A                                              \u001b[A\n",
            "\u001b[A                                              \u001b[A\n",
            "\n",
            "                              -----------------------                           \n",
            "                                     \u001b[1;33mR\u001b[0m \u001b[1;33mA\u001b[0m \u001b[1;32mT\u001b[0m \u001b[1;37mE\u001b[0m \u001b[1;37mS\u001b[0m                                  \n",
            "                                     \u001b[1;37mU\u001b[0m \u001b[1;32mL\u001b[0m \u001b[1;32mT\u001b[0m \u001b[1;33mR\u001b[0m \u001b[1;33mA\u001b[0m                                  \n",
            "                                     \u001b[1;32mA\u001b[0m \u001b[1;32mL\u001b[0m \u001b[1;32mT\u001b[0m \u001b[1;32mA\u001b[0m \u001b[1;32mR\u001b[0m                                  \n",
            "                              -----------------------                           \n",
            "\n",
            "                               🎉 \u001b[1;35mCONGRATULATIONS!\u001b[0m 🎉                           \n",
            "\n"
          ]
        }
      ],
      "source": [
        "!cd wordle_bot && python main.py"
      ]
    }
  ],
  "metadata": {
    "accelerator": "GPU",
    "colab": {
      "authorship_tag": "ABX9TyPSD5o6nL9cDnbxwa+kdQRr",
      "include_colab_link": true,
      "name": "Wordle bot.ipynb",
      "provenance": []
    },
    "gpuClass": "standard",
    "kernelspec": {
      "display_name": "Python 3.10.4 ('wordle')",
      "language": "python",
      "name": "python3"
    },
    "language_info": {
      "name": "python",
      "version": "3.10.4"
    },
    "vscode": {
      "interpreter": {
        "hash": "34110caf40bf75e5d90f11e5809c7b6f34dd91dc2619c5800240501c65bd7bab"
      }
    }
  },
  "nbformat": 4,
  "nbformat_minor": 0
}
