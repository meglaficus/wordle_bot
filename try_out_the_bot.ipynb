{
  "nbformat": 4,
  "nbformat_minor": 0,
  "metadata": {
    "colab": {
      "name": "Wordle bot.ipynb",
      "provenance": [],
      "toc_visible": true,
      "authorship_tag": "ABX9TyNcCX4ntq+GyNt0R/gKP2wY",
      "include_colab_link": true
    },
    "kernelspec": {
      "name": "python3",
      "display_name": "Python 3"
    },
    "language_info": {
      "name": "python"
    },
    "accelerator": "GPU",
    "gpuClass": "standard"
  },
  "cells": [
    {
      "cell_type": "markdown",
      "metadata": {
        "id": "view-in-github",
        "colab_type": "text"
      },
      "source": [
        "<a href=\"https://colab.research.google.com/github/meglaficus/wordle_bot/blob/main/try_out_the_bot.ipynb\" target=\"_parent\"><img src=\"https://colab.research.google.com/assets/colab-badge.svg\" alt=\"Open In Colab\"/></a>"
      ]
    },
    {
      "cell_type": "code",
      "execution_count": null,
      "metadata": {
        "colab": {
          "base_uri": "https://localhost:8080/"
        },
        "id": "Qy3_S7liw-Xs",
        "outputId": "b211bc24-7448-4c8f-d635-70994fbf9785"
      },
      "outputs": [
        {
          "output_type": "stream",
          "name": "stdout",
          "text": [
            "100% 12972/12972 [02:03<00:00, 105.13it/s]\n",
            "[(6.1940527, 'tares'), (6.1499186, 'lares'), (6.1143427, 'rales'), (6.0962424, 'rates'), (6.0766187, 'teras')]\n"
          ]
        }
      ],
      "source": [
        "!git clone https://github.com/meglaficus/wordle_bot.git\n",
        "!pip install rich\n",
        "!python main.py"
      ]
    }
  ]
}